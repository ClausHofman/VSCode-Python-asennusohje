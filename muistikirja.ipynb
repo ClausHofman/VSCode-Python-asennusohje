{
 "metadata": {
  "language_info": {
   "codemirror_mode": {
    "name": "ipython",
    "version": 3
   },
   "file_extension": ".py",
   "mimetype": "text/x-python",
   "name": "python",
   "nbconvert_exporter": "python",
   "pygments_lexer": "ipython3",
   "version": "3.8.7-final"
  },
  "orig_nbformat": 2,
  "kernelspec": {
   "name": "python3",
   "display_name": "Python 3.8.7 64-bit ('venv')",
   "metadata": {
    "interpreter": {
     "hash": "42334a8fd9d540df255c7b0f75fb2b4ef96f45e4a8af1df239c4eacf60b255a4"
    }
   }
  }
 },
 "nbformat": 4,
 "nbformat_minor": 2,
 "cells": [
  {
   "source": [
    "# Esimerkki If-lauseesta"
   ],
   "cell_type": "markdown",
   "metadata": {}
  },
  {
   "cell_type": "code",
   "execution_count": 3,
   "metadata": {},
   "outputs": [
    {
     "output_type": "stream",
     "name": "stdout",
     "text": [
      "oikein, olet lukenut kirjan \"Käsikirja linnunradan liftareille\" \n"
     ]
    }
   ],
   "source": [
    "oikea_vastaus = '42'\n",
    "vastaus = input('Mikä on elämän tarkoitus?')\n",
    "if vastaus == oikea_vastaus:\n",
    "    print('oikein, olet lukenut kirjan \"Käsikirja linnunradan liftareille\" ')\n",
    "else:\n",
    "    print('väärin, lue kirja \"Käsikirja linnunradan liftareille\" ja aja koodi uudelleen')"
   ]
  },
  {
   "cell_type": "code",
   "execution_count": 2,
   "metadata": {},
   "outputs": [
    {
     "output_type": "stream",
     "name": "stdout",
     "text": [
      "(1, 'seinähullu', True)\n"
     ]
    }
   ],
   "source": [
    "lista = (1, 'seinähullu', True)\n",
    "print(lista)"
   ]
  },
  {
   "cell_type": "code",
   "execution_count": null,
   "metadata": {},
   "outputs": [],
   "source": []
  }
 ]
}